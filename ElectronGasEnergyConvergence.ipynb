{
  "nbformat": 4,
  "nbformat_minor": 0,
  "metadata": {
    "kernelspec": {
      "display_name": "Python 3",
      "language": "python",
      "name": "python3"
    },
    "language_info": {
      "codemirror_mode": {
        "name": "ipython",
        "version": 3
      },
      "file_extension": ".py",
      "mimetype": "text/x-python",
      "name": "python",
      "nbconvert_exporter": "python",
      "pygments_lexer": "ipython3",
      "version": "3.7.3"
    },
    "colab": {
      "name": "ElectronGasEnergyConvergence.ipynb",
      "provenance": []
    }
  },
  "cells": [
    {
      "cell_type": "markdown",
      "metadata": {
        "id": "C98y_txz3IPa"
      },
      "source": [
        "# Electron Gas Energy Convergence\n",
        "\n",
        "Julie Butler Hartley\n",
        "\n",
        "Date Created: October 18, 2020\n",
        "\n",
        "Last Modified: October 20, 2020"
      ]
    },
    {
      "cell_type": "markdown",
      "metadata": {
        "id": "cri0xR5ueoAO"
      },
      "source": [
        "## Imports"
      ]
    },
    {
      "cell_type": "code",
      "metadata": {
        "id": "skPkPFineoAR"
      },
      "source": [
        "# For matrices and calculations\n",
        "import numpy as np\n",
        "\n",
        "# For machine learning (backend for keras)\n",
        "import tensorflow as tf\n",
        "# User-friendly machine learning library\n",
        "# Front end for TensorFlow\n",
        "import keras\n",
        "# Different methods from Keras needed to create an RNN\n",
        "# This is not necessary but it shortened function calls \n",
        "# that need to be used in the code.\n",
        "from keras.layers import Input\n",
        "from keras.models import Model, Sequential\n",
        "from keras.layers.core import Dense, Activation \n",
        "from keras.layers.recurrent import SimpleRNN\n",
        "\n",
        "# For plotting\n",
        "import matplotlib.pyplot as plt"
      ],
      "execution_count": null,
      "outputs": []
    },
    {
      "cell_type": "markdown",
      "metadata": {
        "id": "NscwwWem3WOG"
      },
      "source": [
        "## Electron Gas Data Sets\n",
        "\n",
        "* The naming convention for all data sets is rs_[Value of rs]\\_N_\\[Value of N]()\n",
        "* Each method returns a string that can be used for naming saved data and graphs from that data set, a recommended training dimension for machine learning, the number of orbitals (the recommended x data), then the couple cluster doubles correlation energy (the recommended y data), and the number of particles from that data set."
      ]
    },
    {
      "cell_type": "code",
      "metadata": {
        "id": "v_0sWMa-eoAc"
      },
      "source": [
        "def rs_0_1_N_74():\n",
        "\tN = 74\n",
        "\tname = 'Electron_Gas_rs_0_1_N_74'\n",
        "\ttraining_dim = 8\n",
        "\tnOrbits = np.array([242, 394, 570, 730, 914, 1266, 1642, 2418, 3586, 5642])\n",
        "\tcorrelation_energy = np.array([-0.19768E+00, -0.24844E+00, -0.27287E+00, -0.28353E+00, -0.29048E+00, -0.29765E+00, -0.30161E+00, -0.30567E+00, -0.30831E+00, -0.31021E+00])\n",
        "\tassert len(nOrbits) == len(correlation_energy)\n",
        "\treturn name, training_dim, nOrbits, correlation_energy, N\n",
        "\n",
        "def rs_0_1_N_98():\n",
        "\tN = 98\n",
        "\tname = 'Electron_Gas_rs_0_1_N_98'\n",
        "\ttraining_dim = 8\n",
        "\tnOrbits = np.array([242, 394, 570, 730, 914, 1642, 2418, 3586, 5642])\n",
        "\tcorrelation_energy = np.array([-0.17885E+00, -0.24386E+00, -0.27757E+00, -0.29325E+00, -0.30352E+00, -0.31946E+00, -0.32511E+00, -0.32873E+00, -0.33133E+00])\n",
        "\tassert len(nOrbits) == len(correlation_energy)\n",
        "\treturn name, training_dim, nOrbits, correlation_energy, N\n",
        "\n",
        "def rs_0_1_N_114():\n",
        "\tN = 114\n",
        "\tname = 'Electron_Gas_rs_0_1_N_114'\n",
        "\ttraining_dim = 8\n",
        "\tnOrbits = np.array([242, 394, 570, 730, 914, 1642, 2418, 3586, 5642])\n",
        "\tcorrelation_energy = np.array([-0.14637E+00, -0.21891E+00, -0.25798E+00, -0.27688E+00, -0.28956E+00, -0.30908E+00, -0.31587E+00, -0.32019E+00, -0.32327E+00])\n",
        "\tassert len(nOrbits) == len(correlation_energy)\n",
        "\treturn name, training_dim, nOrbits, correlation_energy, N\n",
        "\n",
        "def rs_0_1_N_138():\n",
        "\tN = 138\n",
        "\tname = 'Electron_Gas_rs_0_1_N_138'\n",
        "\ttraining_dim = 8\n",
        "\tnOrbits = np.array([242, 394, 570, 730, 914, 1266, 1642, 2418, 3586, 5642])\n",
        "\tcorrelation_energy = np.array([-0.10139E+00, -0.18351E+00, -0.22945E+00, -0.25259E+00, -0.26873E+00, -0.28530E+00, -0.29404E+00, -0.30264E+00, -0.30805E+00, -0.31187E+00])\t\t\t\n",
        "\tassert len(nOrbits) == len(correlation_energy)\n",
        "\treturn name, training_dim, nOrbits, correlation_energy, N\n",
        "\n",
        "def rs_0_1_N_178():\n",
        "\tN = 178\n",
        "\tname = 'Electron_Gas_rs_0_1_N_178'\n",
        "\ttraining_dim = 8\n",
        "\tnOrbits = np.array([242, 394, 570, 730, 914, 1642, 2418, 3586, 5642])\n",
        "\tcorrelation_energy = np.array([-0.58766E-01, -0.15443E+00, -0.21036E+00, -0.23972E+00, -0.26108E+00, -0.29665E+00, -0.30862E+00, -0.31599E+00, -0.32111E+00])\n",
        "\tassert len(nOrbits) == len(correlation_energy)\n",
        "\treturn name, training_dim, nOrbits, correlation_energy, N\n",
        "\n",
        "\n",
        "def rs_0_5_N_10():\n",
        "\tN = 10\n",
        "\tname = 'Electron_Gas_rs_0_5_N_10'\n",
        "\ttraining_dim = 16\n",
        "\tnOrbits = np.array([26, 50, 74, 98, 242, 394, 570, 914, 1266, 1642, 2010, 2418, 2810, 3210, 3586, 4418, 5202, 6482, 7738, 9946])\n",
        "\tcorrelation_energy = np.array([-0.13744E+00, -0.19731E+00, -0.21989E+00, -0.22829E+00, -0.24149E+00, -0.24424E+00, -0.24551E+00, -0.24651E+00, -0.24696E+00, -0.24722E+00, -0.24737E+00, -0.24749E+00, -0.24757E+00, -0.24763E+00, -0.24768E+00, -0.24775E+00, -0.24779E+00, -0.24785E+00, -0.24788E+00, -0.24792E+00])\n",
        "\tassert len(nOrbits) == len(correlation_energy)\n",
        "\treturn name, training_dim, nOrbits, correlation_energy, N\n",
        "\n",
        "def rs_0_5_N_74():\n",
        "\tN = 74\n",
        "\tname = 'Electron_Gas_rs_0_5_N_74'\n",
        "\ttraining_dim = 8\n",
        "\tnOrbits = np.array([242, 394, 570, 730, 914, 1266, 1642, 2418, 3586, 5642])\n",
        "\tcorrelation_energy = np.array([-0.15357E+00, -0.19885E+00, -0.21935E+00, -0.22749E+00, -0.23250E+00, -0.23746E+00, -0.24012E+00, -0.24278E+00, -0.24447E+00, -0.24567E+00])\n",
        "\tassert len(nOrbits) == len(correlation_energy)\n",
        "\treturn name, training_dim, nOrbits, correlation_energy, N\n",
        "\n",
        "def rs_0_5_N_98():\n",
        "\tN = 98\n",
        "\tname = 'Electron_Gas_rs_0_5_N_98'\n",
        "\ttraining_dim = 8\n",
        "\tnOrbits = np.array([242, 394, 570, 730, 914, 1266, 1642, 2418, 3586, 5642])\n",
        "\tcorrelation_energy = np.array([-0.12590E+00, -0.18326E+00, -0.21284E+00, -0.22582E+00, -0.23375E+00, -0.24121E+00, -0.24506E+00, -0.24883E+00, -0.25118E+00, -0.25283E+00])\n",
        "\tassert len(nOrbits) == len(correlation_energy)\n",
        "\treturn name, training_dim, nOrbits, correlation_energy, N\n",
        "\n",
        "def rs_0_5_N_114():\n",
        "\tN = 114\n",
        "\tname = 'Electron_Gas_rs_0_5_N_114'\n",
        "\ttraining_dim = 10\n",
        "\tnOrbits = np.array([242, 394, 570, 730, 914, 1266, 1642, 2418, 3210, 3586, 5642])\n",
        "\tcorrelation_energy = np.array([-0.10321E+00, -0.16622E+00, -0.20087E+00, -0.21708E+00, -0.22733E+00, -0.23683E+00, -0.24161E+00, -0.24620E+00, -0.24836E+00, -0.24902E+00, -0.25099E+00])\t\n",
        "\tassert len(nOrbits) == len(correlation_energy)\n",
        "\treturn name, training_dim, nOrbits, correlation_energy, N\n",
        "\n",
        "def rs_0_5_N_138():\n",
        "\tN = 138\n",
        "\tname = 'Electron_Gas_rs_0_5_N_138'\n",
        "\ttraining_dim = 8\n",
        "\tnOrbits = np.array([242, 394, 570, 730, 914, 1266, 1642, 2418, 3586, 5642])\n",
        "\tcorrelation_energy = np.array([-0.70119E-01, -0.13876E+00, -0.17981E+00, -0.20029E+00, -0.21407E+00, -0.22722E+00, -0.23360E+00, -0.23957E+00, -0.24317E+00, -0.24564E+00])\n",
        "\tassert len(nOrbits) == len(correlation_energy)\n",
        "\treturn name, training_dim, nOrbits, correlation_energy, N\n",
        "\n",
        "def rs_0_5_N_178():\n",
        "\tN = 178\n",
        "\tname = 'Electron_Gas_rs_0_5_N_178'\n",
        "\ttraining_dim = 8\n",
        "\tnOrbits = np.array([242, 394, 570, 730, 914, 1642, 2418, 3586, 5642])\n",
        "\tcorrelation_energy = np.array([-0.35714E-01, -0.10863E+00, -0.15715E+00, -0.18338E+00, -0.20227E+00, -0.23158E+00, -0.24021E+00, -0.24523E+00, -0.24859E+00])\n",
        "\tassert len(nOrbits) == len(correlation_energy)\n",
        "\treturn name, training_dim, nOrbits, correlation_energy, N\n",
        "\n",
        "def rs_1_N_10():\n",
        "\tN = 10\n",
        "\tname = 'Electron_Gas_rs_1_N_10'\n",
        "\ttraining_dim = 16\n",
        "\tnOrbits = np.array([26, 50, 74, 98, 242, 394, 570, 914, 1266, 1642, 2010, 2418, 2810, 3210, 3586, 4418, 5202, 6482, 7738, 9946])\n",
        "\tcorrelation_energy = np.array([-0.10969E+00, -0.16221E+00, -0.18024E+00, -0.18623E+00, -0.19486E+00, -0.19654E+00, -0.19730E+00, -0.19789E+00, -0.19815E+00, -0.19830E+00, -0.19839E+00, -0.19846E+00, -0.19850E+00, -0.19854E+00, -0.19856E+00, -0.19860E+00, -0.19863E+00, -0.19866E+00, -0.19868E+00, -0.19870E+00])\n",
        "\tassert len(nOrbits) == len(correlation_energy)\n",
        "\treturn name, training_dim, nOrbits, correlation_energy, N\n",
        "\n",
        "def rs_1_N_26():\n",
        "\tN = 26\n",
        "\tname = 'Electron_Gas_rs_1_N_26'\n",
        "\ttraining_dim = 16\n",
        "\tnOrbits = np.array([50, 74, 98, 122, 162, 194, 218, 242, 274, 298, 338, 370, 394, 442, 466, 498, 522, 570, 602, 730, 914, 1266, 1642, 2010, 2418, 2810, 3210, 3586, 4002, 4418, 4834, 5202, 5604])\n",
        "\tcorrelation_energy = np.array([-0.67039E-01, -0.11728E+00, -0.14399E+00, -0.16185E+00, -0.17787E+00, -0.18554E+00, -0.18859E+00, -0.19101E+00, -0.19336E+00, -0.19458E+00, -0.19616E+00, -0.19721E+00, -0.19776E+00, -0.19876E+00, -0.19913E+00, -0.19959E+00, -0.19988E+00, -0.20039E+00, -0.20068E+00, -0.20153E+00, -0.20229E+00, -0.20309E+00, -0.20354E+00, -0.20381E+00, -0.20400E+00, -0.20414E+00, -0.20424E+00, -0.20431E+00, -0.20437E+00, -0.20442E+00, -0.20447E+00, -0.20450E+00, -0.20453E+00])\t\n",
        "\tassert len(nOrbits) == len(correlation_energy)\n",
        "\treturn name, training_dim, nOrbits, correlation_energy, N\n",
        "\n",
        "def rs_1_N_42():\n",
        "\tN = 42\n",
        "\tname = 'Electron_Gas_rs_1_N_42'\n",
        "\ttraining_dim = 16\n",
        "\tnOrbits = np.array([50, 74, 98, 122, 162, 194, 218, 242, 274, 298, 338, 370, 394, 442, 466, 498, 522, 570, 730, 914, 1266, 1642, 2010, 2418, 2810, 3210, 3586, 4002, 4418, 4834])\n",
        "\tcorrelation_energy = np.array([-0.71004E-02, -0.47129E-01, -0.78456E-01, -0.10326E+00, -0.13055E+00, -0.14624E+00, -0.15389E+00, -0.15986E+00, -0.16621E+00, -0.16943E+00, -0.17349E+00, -0.17600E+00, -0.17728E+00, -0.17948E+00, -0.18030E+00, -0.18127E+00, -0.18187E+00, -0.18293E+00, -0.18522E+00, -0.18669E+00, -0.18819E+00, -0.18902E+00, -0.18950E+00, -0.18985E+00, -0.19009E+00, -0.19026E+00, -0.19039E+00, -0.19050E+00, -0.19059E+00, -0.19067E+00])\n",
        "\tassert len(nOrbits) == len(correlation_energy)\n",
        "\treturn name, training_dim, nOrbits, correlation_energy, N\n",
        "\n",
        "def rs_1_N_74():\n",
        "\tN = 74\n",
        "\tname = 'Electron_Gas_rs_1_N_74'\n",
        "\ttraining_dim = 16\n",
        "\tnOrbits = np.array([162, 194, 218, 242, 274, 298, 338, 370, 394, 570, 730, 914, 1266, 1642, 2010, 2418, 2810, 3210, 3586, 5642])\n",
        "\tcorrelation_energy = np.array([-0.75782E-01\t, -0.98411E-01, -0.11056E+00, -0.12147E+00, -0.13362E+00, -0.14067E+00, -0.15050E+00, -0.15708E+00, -0.16085E+00, -0.17771E+00, -0.18374E+00, -0.18722E+00, -0.19052E+00, -0.19223, -0.19320, -0.19389, -0.19435, -0.19469E+00, -0.19494E+00, -0.19566E+00])\n",
        "\tassert len(nOrbits) == len(correlation_energy)\n",
        "\treturn name, training_dim, nOrbits, correlation_energy, N\n",
        "\n",
        "\n",
        "def rs_1_N_114():\n",
        "\tN = 114\n",
        "\tname = 'Electron_Gas_rs_1_N_114'\n",
        "\ttraining_dim = 12\n",
        "\tnOrbits = np.array([242, 394, 570, 730, 914, 1266, 1642, 2010, 2418, 2810, 3210, 3586, 5642])\n",
        "\tcorrelation_energy = np.array([-0.76785E-01, -0.13045E+00, -0.16049E+00, -0.17413E+00, -0.18227E+00, -0.18917E+00, -0.19240E+00, -0.19416E+00, -0.19538E+00, -0.19617E+00, -0.19675E+00, -0.19716E+00, -0.19837E+00])\n",
        "\tassert len(nOrbits) == len(correlation_energy)\n",
        "\treturn name, training_dim, nOrbits, correlation_energy, N\n",
        "\n",
        "\n",
        "def rs_1_N_122():\n",
        "\tN = 122\n",
        "\tname = 'Electron_Gas_rs_1_N_122'\n",
        "\ttraining_dim = 10\n",
        "\tnOrbits = np.array([242, 394, 570, 730, 914, 1266, 1642, 2010, 2418, 2810, 3210])\n",
        "\tcorrelation_energy = np.array([-0.67778E-01, -0.12278E+00, -0.15503E+00, -0.17008E+00, -0.17935E+00, -0.18727E+00, -0.19090E+00, -0.19285E+00, -0.19420E+00, -0.19506E+00, -0.19570E+00])\n",
        "\tassert len(nOrbits) == len(correlation_energy)\n",
        "\treturn name, training_dim, nOrbits, correlation_energy, N\n",
        "\n",
        "def rs_1_N_138():\n",
        "\tN = 138\n",
        "\tname= 'Electron_Gas_rs_1_N_138'\n",
        "\ttraining_dim = 10\n",
        "\tnOrbits = np.array([242, 394, 570, 730, 914, 1266, 1642, 2010, 2418, 2810, 3586, 5642])\n",
        "\tcorrelation_energy = np.array([-0.51117E-01, -0.10783E+00, -0.14360E+00, -0.16132E+00, -0.17285E+00, -0.18305E+00, -0.18754E+00, -0.18991E+00, -0.19152E+00, -0.19254E+00, -0.19382E+00, -0.19536E+00])\n",
        "\tassert len(nOrbits) == len(correlation_energy)\n",
        "\treturn name, training_dim, nOrbits, correlation_energy, 138\n",
        "\n",
        "\n",
        "def rs_1_N_178():\n",
        "\tN = 178\n",
        "\tname = 'Electron_Gas_rs_1_N_178'\n",
        "\ttraining_dim = 8\n",
        "\tnOrbits = np.array([242, 394, 570, 730, 914, 1642, 2418, 3586, 5642])\n",
        "\tcorrelation_energy = np.array([-0.24362E-01, -0.80981E-01, -0.12228E+00, -0.14516E+00, -0.16151E+00, -0.18524E+00, -0.19125E+00, -0.19454E+00, -0.19666E+00])\n",
        "\tassert len(nOrbits) == len(correlation_energy)\n",
        "\treturn name, training_dim, nOrbits, correlation_energy, N\n",
        "\n",
        "def rs_2_N_10():\n",
        "\tN = 10\n",
        "\tname = 'Electron_Gas_rs_2_N_10'\n",
        "\ttraining_dim = 16\n",
        "\tnOrbits = np.array([26, 50, 74, 98, 242, 394, 570, 914, 1266, 1642, 2010, 2418, 2810, 3210, 3586, 4418, 5202, 6482, 7738, 9946])\n",
        "\tcorrelation_energy = np.array([-0.78014E-01, -0.11947E+00, -0.13232E+00, -0.13579E+00, -0.14014E+00, -0.14090E+00, -0.14123E+00, -0.14148E+00, -0.14159E+00, -0.14165E+00, -0.14169E+00, -0.14172E+00, -0.14174E+00, -0.14175E+00, -0.14176E+00, -0.14178E+00, -0.14179E+00, -0.14180E+00, -0.14181E+00, -0.14182E+00])\n",
        "\tassert len(nOrbits) == len(correlation_energy)\n",
        "\treturn name, training_dim, nOrbits, correlation_energy, N\n",
        "\n",
        "def rs_2_N_74():\n",
        "\tN = 74\n",
        "\tname = 'Electron_Gas_rs_2_N_74'\n",
        "\ttraining_dim = 8\n",
        "\tnOrbits = np.array([242, 394, 570, 730, 914, 1266, 1642, 2418, 3586, 5642])\n",
        "\tcorrelation_energy = np.array([-0.86475E-01, -0.11747E+00, -0.12985E+00, -0.13359E+00, -0.13551E+00, -0.13719E+00, -0.13802E+00, -0.13880E+00, -0.13928E+00, -0.13960E+00])\n",
        "\tassert len(nOrbits) == len(correlation_energy)\n",
        "\treturn name, training_dim, nOrbits, correlation_energy, N\n",
        "\n",
        "def rs_2_N_114():\n",
        "\tN = 114\n",
        "\tname = 'Electron_Gas_rs_2_N_114'\n",
        "\ttraining_dim = 6\n",
        "\tnOrbits = np.array([242, 394, 570, 730, 914, 1266, 1642, 2418])\n",
        "\tcorrelation_energy = np.array([-0.51317E-01, -0.92486E-01, -0.11608E+00, -0.12645E+00, -0.13213E+00, -0.13621E+00, -0.13782E+00, -0.13909E+00])\n",
        "\tassert len(nOrbits) == len(correlation_energy)\n",
        "\treturn name, training_dim, nOrbits, correlation_energy, N\n",
        "\n",
        "def rs_2_N_138():\n",
        "\tN = 138\n",
        "\tname = 'Electron_Gas_rs_2_N_138'\n",
        "\ttraining_dim = 8\n",
        "\tnOrbits = np.array([242, 394, 570, 730, 914, 1266, 1642, 2418, 3586, 5642])\n",
        "\tcorrelation_energy = np.array([-0.33331E-01, -0.75374E-01, -0.10356E+00, -0.11746E+00, -0.12613E+00, -0.13298E+00, -0.13552E+00, -0.13757E+00, -0.13868E+00, -0.13939E+00])\n",
        "\tassert len(nOrbits) == len(correlation_energy)\n",
        "\treturn name, training_dim, nOrbits, correlation_energy, N\n",
        "\n",
        "def rs_2_N_178():\n",
        "\tN = 178\n",
        "\tname = 'Electron_Gas_rs_2_N_178'\n",
        "\ttraining_dim = 6\n",
        "\tnOrbits = np.array([242, 394, 570, 730, 914, 1266, 1642])\n",
        "\tcorrelation_energy = np.array([-0.14987E-01, -0.54324E-01, -0.85988E-01, -0.10406E+00, -0.11690E+00, -0.12907E+00, -0.13394E+00])\t\t\t\n",
        "\tassert len(nOrbits) == len(correlation_energy)\n",
        "\treturn name, training_dim, nOrbits, correlation_energy, N"
      ],
      "execution_count": null,
      "outputs": []
    },
    {
      "cell_type": "markdown",
      "metadata": {
        "id": "zgdDK0z24T3j"
      },
      "source": [
        "## The Recurrent Neural Network\n",
        "\n",
        "This network consists of an input layer, followed by two dense (feedforward) neural network layers, then three simple recurrent neural network layers, and finally a dense layer which functions as the output layer.  The first two dense layers have one half of the neurons as the recurrent layers.  All of the parameters of the network are passed as arguments to the function."
      ]
    },
    {
      "cell_type": "code",
      "metadata": {
        "id": "g5JFhFgSeoA9"
      },
      "source": [
        "def rnn(length_of_sequences, hidden_neurons, loss, optimizer, activation_dense, activation_rnn, rate, batch_size = None, stateful = False):\n",
        "    \"\"\"\n",
        "        Inputs:\n",
        "            length_of_sequences (an int): the length of sequence used to format the data set\n",
        "            hidden_neurons (an int): the number of neurons to be used in the SimpleRNN layers, or double the number\n",
        "                of neurons to be used in the Dense layers\n",
        "            loss (a string): the loss function to be used\n",
        "            optimizer (a string): the optimizer to be used\n",
        "            activation (a string): the activation to be used in the dense layers\n",
        "            rate (an int or float): the L2 regulization rate (not used in this example)\n",
        "            batch_size (an int): Default value is None.  See Keras documentation of SimpleRNN.\n",
        "            stateful (a boolean): Default value is False.  See Keras documentation of SimpleRNN.\n",
        "        Returns:\n",
        "            model (a Keras model): a compiled recurrent neural network consisting of one input layer followed by\n",
        "                2 dense (feedforward layers), then three simple recurrent neural network layers, and finally an\n",
        "                output layer.\n",
        "        Builds and compiles a Keras recurrent neural network with specified parameters using two hidden dense \n",
        "        layers followed by three hidden simple recurrent neural network layers.\n",
        "    \"\"\"\n",
        "    # Number of neurons in the input and output layers\n",
        "    in_out_neurons = 1\n",
        "    # Input layer\n",
        "    inp = Input(batch_shape=(batch_size, \n",
        "                length_of_sequences, \n",
        "                in_out_neurons)) \n",
        "    # Hidden dense layers\n",
        "    dnn = Dense(hidden_neurons/2, activation=activation_dense, name='dnn')(inp)\n",
        "    dnn1 = Dense(hidden_neurons/2, activation=activation_dense, name='dnn1')(dnn)\n",
        "    # Hidden simple recurrent layers\n",
        "    rnn1 = SimpleRNN(hidden_neurons, \n",
        "                    return_sequences=True, activation = activation_rnn,\n",
        "                    stateful = stateful,\n",
        "                    name=\"RNN1\", use_bias=True,recurrent_dropout=0.0, kernel_regularizer=keras.regularizers.l2(rate))(dnn1)\n",
        "    rnn2 = SimpleRNN(hidden_neurons, \n",
        "                    return_sequences=True, activation = activation_rnn,\n",
        "                    stateful = stateful,\n",
        "                    name=\"RNN2\", use_bias=True,recurrent_dropout=0.0, kernel_regularizer=keras.regularizers.l2(rate))(rnn1)\n",
        "    rnn = SimpleRNN(hidden_neurons, \n",
        "                    return_sequences=False, activation = activation_rnn,\n",
        "                    stateful = stateful,\n",
        "                    name=\"RNN\", use_bias=True,recurrent_dropout=0.0, kernel_regularizer=keras.regularizers.l2(rate))(rnn2)\n",
        "    # Output layer\n",
        "    dens = Dense(in_out_neurons,name=\"dense\")(rnn)\n",
        "    # Build the model\n",
        "    model = Model(inputs=[inp],outputs=[dens])\n",
        "    # Compile the model\n",
        "    model.compile(loss=loss, optimizer=optimizer)  \n",
        "    # Return the model\n",
        "    return model"
      ],
      "execution_count": null,
      "outputs": []
    },
    {
      "cell_type": "markdown",
      "metadata": {
        "id": "5dTBm7Ai6Ywj"
      },
      "source": [
        "## The Complete Data Set for the Number of Orbitals"
      ]
    },
    {
      "cell_type": "code",
      "metadata": {
        "id": "12_yOH6EeoAt"
      },
      "source": [
        "All_X_Values = np.array([26, 50, 74, 98, 122, 162, 194, 218, 242, 274,\n",
        "    298, 338, 370, 394, 442, 466, 498, 522, 570, 602, 730, 914, 1266,\n",
        "    1642, 2010, 2418, 2810, 3210, 3586, 4002, 4418, 4834, 5202, 5604,\n",
        "    5642, 6482, 7738, 9946])"
      ],
      "execution_count": null,
      "outputs": []
    },
    {
      "cell_type": "markdown",
      "metadata": {
        "id": "182zAvlD6gTa"
      },
      "source": [
        "## Setting up the data to feed into the network"
      ]
    },
    {
      "cell_type": "code",
      "metadata": {
        "id": "tlUzF-1UeoAm"
      },
      "source": [
        "# Get the information from the data set\n",
        "name, dim, X_tot, y_tot, N = rs_1_N_42()\n",
        "\n",
        "# Save the data sets that are in terms of the number of orbitals\n",
        "X_tot_original = X_tot\n",
        "All_X_Values_original = All_X_Values\n",
        "\n",
        "# Format the data sets in terms of 1/m^2, where m=M/N\n",
        "# M is the number of orbitals\n",
        "# This is the formatting style done in the James Shepherd paper\n",
        "# Comment out the following two lines to train in terms of number \n",
        "# of orbitals\n",
        "X_tot = np.asarray([1/(i/N)**2 for i in X_tot])\n",
        "All_X_Values = np.asarray([1/(i/N)**2 for i in All_X_Values])\n",
        "\n",
        "X_tot = X_tot.reshape((-1, 1))"
      ],
      "execution_count": null,
      "outputs": []
    },
    {
      "cell_type": "markdown",
      "metadata": {
        "id": "bGIAKUgw7hyU"
      },
      "source": [
        "## Set up the network with the desired parameters and train it\n",
        "\n",
        "* Train the network using the total data set, possibly with a validation split but no data left over as test data.  This is because most of the data sets are quite small."
      ]
    },
    {
      "cell_type": "code",
      "metadata": {
        "id": "mO7P-nfqeoBA",
        "outputId": "add17191-dfda-43f7-d8e4-ba58c97af85e",
        "colab": {
          "base_uri": "https://localhost:8080/",
          "height": 391
        }
      },
      "source": [
        "# Create a recurrent neural network in Keras and produce a summary of the \n",
        "# machine learning model\n",
        "# Change the method name to reflect which network you want to use\n",
        "# These parameters were determined through hyperparameter tuning with \n",
        "# has a huge time cost\n",
        "model = rnn(1, 50, 'mse', 'adam', 'relu', 'sigmoid', 0.0)\n",
        "model.summary()\n",
        "\n",
        "# Fit the model using the training data genenerated above using 150 training iterations and a 20%\n",
        "# validation split.  Setting verbose to True prints information about each training iteration.\n",
        "hist = model.fit(X_tot, y_tot, batch_size=None, epochs=500, \n",
        "                 verbose=False,validation_split=0.2)"
      ],
      "execution_count": null,
      "outputs": [
        {
          "output_type": "stream",
          "text": [
            "Model: \"functional_11\"\n",
            "_________________________________________________________________\n",
            "Layer (type)                 Output Shape              Param #   \n",
            "=================================================================\n",
            "input_6 (InputLayer)         [(None, 1, 1)]            0         \n",
            "_________________________________________________________________\n",
            "dnn (Dense)                  (None, 1, 25)             50        \n",
            "_________________________________________________________________\n",
            "dnn1 (Dense)                 (None, 1, 25)             650       \n",
            "_________________________________________________________________\n",
            "RNN1 (SimpleRNN)             (None, 1, 50)             3800      \n",
            "_________________________________________________________________\n",
            "RNN2 (SimpleRNN)             (None, 1, 50)             5050      \n",
            "_________________________________________________________________\n",
            "RNN (SimpleRNN)              (None, 50)                5050      \n",
            "_________________________________________________________________\n",
            "dense (Dense)                (None, 1)                 51        \n",
            "=================================================================\n",
            "Total params: 14,651\n",
            "Trainable params: 14,651\n",
            "Non-trainable params: 0\n",
            "_________________________________________________________________\n"
          ],
          "name": "stdout"
        }
      ]
    },
    {
      "cell_type": "markdown",
      "metadata": {
        "id": "qu9w-CsC7pFa"
      },
      "source": [
        "## Use the trained neural network to try to recreate the total data set"
      ]
    },
    {
      "cell_type": "code",
      "metadata": {
        "id": "PwNE6TyleoBE",
        "outputId": "7ca617dd-9aca-4050-a164-1cf924a749bc",
        "colab": {
          "base_uri": "https://localhost:8080/",
          "height": 54
        }
      },
      "source": [
        "y_pred1 = model.predict(X_tot)"
      ],
      "execution_count": null,
      "outputs": [
        {
          "output_type": "stream",
          "text": [
            "WARNING:tensorflow:6 out of the last 11 calls to <function Model.make_predict_function.<locals>.predict_function at 0x7f244bb9fae8> triggered tf.function retracing. Tracing is expensive and the excessive number of tracings could be due to (1) creating @tf.function repeatedly in a loop, (2) passing tensors with different shapes, (3) passing Python objects instead of tensors. For (1), please define your @tf.function outside of the loop. For (2), @tf.function has experimental_relax_shapes=True option that relaxes argument shapes that can avoid unnecessary retracing. For (3), please refer to https://www.tensorflow.org/tutorials/customization/performance#python_or_tensor_args and https://www.tensorflow.org/api_docs/python/tf/function for  more details.\n"
          ],
          "name": "stdout"
        }
      ]
    },
    {
      "cell_type": "markdown",
      "metadata": {
        "id": "9B8YcpR18RWN"
      },
      "source": [
        "## Calculate the recreation error and then plot the known and predicted data sets."
      ]
    },
    {
      "cell_type": "code",
      "metadata": {
        "scrolled": true,
        "id": "k_tNIndTeoBH",
        "outputId": "5711c78c-635c-491a-c82c-bd93163e1785",
        "colab": {
          "base_uri": "https://localhost:8080/",
          "height": 299
        }
      },
      "source": [
        "# Use the trained neural network to predict more points of the data set\n",
        "print(\"MSE:\")\n",
        "print(((y_pred1.flatten() - y_tot)**2).mean())\n",
        "\n",
        "plt.scatter(X_tot, y_tot, label='known')\n",
        "plt.scatter (X_tot, y_pred1.flatten(), s=5, label='predicted')\n",
        "plt.legend(loc='best')\n",
        "plt.show()"
      ],
      "execution_count": null,
      "outputs": [
        {
          "output_type": "stream",
          "text": [
            "MSE:\n",
            "3.048574878864641e-05\n"
          ],
          "name": "stdout"
        },
        {
          "output_type": "display_data",
          "data": {
            "image/png": "[encoded data removed]",
            "text/plain": [
              "<Figure size 432x288 with 1 Axes>"
            ]
          },
          "metadata": {
            "tags": [],
            "needs_background": "light"
          }
        }
      ]
    },
    {
      "cell_type": "markdown",
      "metadata": {
        "id": "r1WxsVyI8fx6"
      },
      "source": [
        "## Use the trained model to predict the correlation energies at all possible inputs.\n",
        "\n",
        "* Prints the predicted data set and then plots the predicted data set, the known data set, and a horizontal line to represent the \"converged\" energy."
      ]
    },
    {
      "cell_type": "code",
      "metadata": {
        "id": "YuPeK0fIeoBL",
        "outputId": "d750ef1c-8279-4469-a6d1-76817e970568",
        "colab": {
          "base_uri": "https://localhost:8080/",
          "height": 948
        }
      },
      "source": [
        "y_all = model.predict(All_X_Values)\n",
        "\n",
        "print(y_all)\n",
        "\n",
        "plt.scatter(All_X_Values, y_all.flatten(), label=\"predicted\")\n",
        "plt.scatter(X_tot, y_tot, s=5, label=\"known\")\n",
        "plt.hlines(y_all[-1], 0, 8, linewidth=2, label=\"converged\")\n",
        "plt.legend(loc=\"best\")\n",
        "plt.show()"
      ],
      "execution_count": null,
      "outputs": [
        {
          "output_type": "stream",
          "text": [
            "WARNING:tensorflow:7 out of the last 12 calls to <function Model.make_predict_function.<locals>.predict_function at 0x7f244bb9fae8> triggered tf.function retracing. Tracing is expensive and the excessive number of tracings could be due to (1) creating @tf.function repeatedly in a loop, (2) passing tensors with different shapes, (3) passing Python objects instead of tensors. For (1), please define your @tf.function outside of the loop. For (2), @tf.function has experimental_relax_shapes=True option that relaxes argument shapes that can avoid unnecessary retracing. For (3), please refer to https://www.tensorflow.org/tutorials/customization/performance#python_or_tensor_args and https://www.tensorflow.org/api_docs/python/tf/function for  more details.\n",
            "[[ 0.02137582]\n",
            " [ 0.00387951]\n",
            " [-0.04467122]\n",
            " [-0.08596988]\n",
            " [-0.11204385]\n",
            " [-0.14134905]\n",
            " [-0.15388015]\n",
            " [-0.16003342]\n",
            " [-0.16449931]\n",
            " [-0.16876246]\n",
            " [-0.17111309]\n",
            " [-0.17398702]\n",
            " [-0.17565252]\n",
            " [-0.17664626]\n",
            " [-0.17817256]\n",
            " [-0.17876591]\n",
            " [-0.17942797]\n",
            " [-0.1798469 ]\n",
            " [-0.18053217]\n",
            " [-0.18090086]\n",
            " [-0.1819238 ]\n",
            " [-0.18271175]\n",
            " [-0.18337695]\n",
            " [-0.18367076]\n",
            " [-0.18381391]\n",
            " [-0.18390153]\n",
            " [-0.18395197]\n",
            " [-0.18398564]\n",
            " [-0.18400754]\n",
            " [-0.1840249 ]\n",
            " [-0.18403763]\n",
            " [-0.18404725]\n",
            " [-0.18405384]\n",
            " [-0.18405966]\n",
            " [-0.18406005]\n",
            " [-0.1840688 ]\n",
            " [-0.18407685]\n",
            " [-0.18408434]]\n"
          ],
          "name": "stdout"
        },
        {
          "output_type": "display_data",
          "data": {
            "image/png": "[encoded data removed]",
            "text/plain": [
              "<Figure size 432x288 with 1 Axes>"
            ]
          },
          "metadata": {
            "tags": [],
            "needs_background": "light"
          }
        }
      ]
    },
    {
      "cell_type": "markdown",
      "metadata": {
        "id": "odn4UCU59ho9"
      },
      "source": [
        "## Print the converged energy and the difference between the last two points"
      ]
    },
    {
      "cell_type": "code",
      "metadata": {
        "id": "9A_twjq5eoBN",
        "outputId": "f75c10cd-2530-4164-a4cd-619c02169e87",
        "colab": {
          "base_uri": "https://localhost:8080/",
          "height": 51
        }
      },
      "source": [
        "print ('DIFFERENCE LAST TWO POINTS: ', y_all[-1] - y_all[-2])\n",
        "print('LAST POINT: ', y_all[-1])"
      ],
      "execution_count": null,
      "outputs": [
        {
          "output_type": "stream",
          "text": [
            "DIFFERENCE LAST TWO POINTS:  [-7.495284e-06]\n",
            "LAST POINT:  [-0.18408434]\n"
          ],
          "name": "stdout"
        }
      ]
    },
    {
      "cell_type": "markdown",
      "metadata": {
        "id": "PP5po9De9qRQ"
      },
      "source": [
        "## Plot the predicted data as a function of the number of orbitals\n",
        "* Also plot a horizontal line to represent the converged energy.\n",
        "* This is useful when the James Shepherd data transformation is used to visualized the converged value."
      ]
    },
    {
      "cell_type": "code",
      "metadata": {
        "id": "J4VcvbsR2drk",
        "outputId": "cbf3dcc2-91d3-4c03-b4d5-d9959b56eca0",
        "colab": {
          "base_uri": "https://localhost:8080/",
          "height": 282
        }
      },
      "source": [
        "plt.scatter (All_X_Values_original, y_all)\n",
        "plt.scatter (X_tot_original, y_tot)\n",
        "plt.hlines(y_all[-1], All_X_Values_original[0], All_X_Values_original[-1], linewidth=2)"
      ],
      "execution_count": null,
      "outputs": [
        {
          "output_type": "execute_result",
          "data": {
            "text/plain": [
              "<matplotlib.collections.LineCollection at 0x7f2448af5da0>"
            ]
          },
          "metadata": {
            "tags": []
          },
          "execution_count": 70
        },
        {
          "output_type": "display_data",
          "data": {
            "image/png": "[encoded data removed]",
            "text/plain": [
              "<Figure size 432x288 with 1 Axes>"
            ]
          },
          "metadata": {
            "tags": [],
            "needs_background": "light"
          }
        }
      ]
    },
    {
      "cell_type": "code",
      "metadata": {
        "id": "C_ODad79273J"
      },
      "source": [
        ""
      ],
      "execution_count": null,
      "outputs": []
    }
  ]
}