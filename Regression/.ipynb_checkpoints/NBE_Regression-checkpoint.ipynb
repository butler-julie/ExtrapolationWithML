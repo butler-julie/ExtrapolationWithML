{
 "cells": [
  {
   "cell_type": "code",
   "execution_count": 1,
   "metadata": {},
   "outputs": [
    {
     "name": "stderr",
     "output_type": "stream",
     "text": [
      "/Library/Python/3.7/site-packages/sklearn/utils/deprecation.py:143: FutureWarning: The sklearn.linear_model.ridge module is  deprecated in version 0.22 and will be removed in version 0.24. The corresponding classes / functions should instead be imported from sklearn.linear_model. Anything that cannot be imported from sklearn.linear_model is now part of the private API.\n",
      "  warnings.warn(message, FutureWarning)\n"
     ]
    }
   ],
   "source": [
    "#############################\n",
    "# IMPORTS\n",
    "#############################\n",
    "# SYSTEM LEVEL IMPORTS\n",
    "# Import files from other directories\n",
    "import sys\n",
    "\n",
    "# THIRD-PARTY IMPORTS\n",
    "# For array handling\n",
    "import numpy as np\n",
    "import matplotlib.pyplot as plt\n",
    "\n",
    "# LOCAL IMPORTS\n",
    "# Linear regression codes\n",
    "from LinearRegression import LinearRegressionAnalysis\n",
    "# Ridge regression codes\n",
    "from RidgeRegression import RidgeRegressionAnalysis\n",
    "# Kernel ridge regression codes\n",
    "from KernelRidgeRegression import KernelRidgeRegressionAnalysis\n",
    "# Support methods, including graphing capabilities\n",
    "from RegressionSupport import *\n",
    "# Changing the import directory\n",
    "sys.path.append('../DataSets/')\n",
    "# Data sets (mostly physics related)\n",
    "from DataSets import *\n",
    "from ElectronGas import *\n",
    "from NuclearBindingEnergy import *\n",
    "from EquationOfState import *"
   ]
  },
  {
   "cell_type": "code",
   "execution_count": 3,
   "metadata": {},
   "outputs": [
    {
     "name": "stdout",
     "output_type": "stream",
     "text": [
      "90\n"
     ]
    }
   ],
   "source": [
    "X_tot, y_tot, design_matrix = EquationOfState()\n",
    "print(len(X_tot))\n",
    "training_dim = 35"
   ]
  },
  {
   "cell_type": "code",
   "execution_count": 4,
   "metadata": {},
   "outputs": [],
   "source": [
    "X_train, y_train = time_series_data (y_tot[:training_dim])"
   ]
  },
  {
   "cell_type": "code",
   "execution_count": 5,
   "metadata": {},
   "outputs": [],
   "source": [
    "#############################\n",
    "# LINEAR REGRESSION PARAMETERS\n",
    "#############################\n",
    "# Possible values of parameters for the linear regression algorithm\n",
    "params_list_lr = [[True, False], [True, False]]\n",
    "\n",
    "\n",
    "#############################\n",
    "# RIDGE REGRESSION PARAMETERS\n",
    "#############################\n",
    "# Possible values of parameters for the ridge regression algorithm\n",
    "normalizes = [True, False]\n",
    "solvers= ['auto', 'svd', 'cholesky', 'lsqr', 'sparse_cg', 'sag', 'saga']\n",
    "alphas = np.logspace(-50, 0, 500)\n",
    "params_list_rr = [normalizes, alphas, solvers]\n",
    "\n",
    "#############################\n",
    "# KERNEL RIDGE REGRESSION PARAMETERS\n",
    "#############################\n",
    "# Possible values of parameters for the kernel ridge regression algorithm\n",
    "kernels = ['polynomial', 'sigmoid', 'rbf']\n",
    "degrees = np.arange(-5, 6, 0.5)\n",
    "alphas = np.logspace(-20, -10, 20)\n",
    "coef0s = np.arange(-5, 6, 1)\n",
    "gammas = np.logspace(-2, 2, 15)\n",
    "params_list_krr = [kernels, degrees, alphas, coef0s, gammas]"
   ]
  },
  {
   "cell_type": "code",
   "execution_count": 6,
   "metadata": {},
   "outputs": [
    {
     "name": "stdout",
     "output_type": "stream",
     "text": [
      "Linear Regression instance started.\n"
     ]
    }
   ],
   "source": [
    "lr = LinearRegressionAnalysis()"
   ]
  },
  {
   "cell_type": "code",
   "execution_count": 9,
   "metadata": {},
   "outputs": [
    {
     "name": "stdout",
     "output_type": "stream",
     "text": [
      "BEST LINEAR REGRESSION SCORE:  27575.43457425532\n",
      "BEST LINEAR REGRESSION PARAMETERS:  (False, True)\n",
      "27575.43457425532\n"
     ]
    }
   ],
   "source": [
    "best_models = lr.tune_serial_seq (params_list_lr, X_train, y_train, training_dim, y_tot,\n",
    "        verbose=True, isReturnBest = True, threshold = 0)\n",
    "# Save the best extrapolated data set and extrapolated error to variables\n",
    "# to be used later\n",
    "data = best_models[2]\n",
    "score = best_models[0]\n",
    "print(score)"
   ]
  },
  {
   "cell_type": "code",
   "execution_count": 10,
   "metadata": {},
   "outputs": [
    {
     "data": {
      "text/plain": [
       "<matplotlib.legend.Legend at 0x125e25828>"
      ]
     },
     "execution_count": 10,
     "metadata": {},
     "output_type": "execute_result"
    },
    {
     "data": {
      "image/png": "[encoded data removed]",
      "text/plain": [
       "<Figure size 432x288 with 1 Axes>"
      ]
     },
     "metadata": {
      "needs_background": "light"
     },
     "output_type": "display_data"
    }
   ],
   "source": [
    "plt.plot(X_tot, y_tot, label='actual')\n",
    "plt.plot(X_tot, data, label='predicted')\n",
    "plt.legend(loc='best')"
   ]
  },
  {
   "cell_type": "code",
   "execution_count": null,
   "metadata": {},
   "outputs": [],
   "source": [
    "data1, mse = lr.known_data_cr_seq (X_train, y_train, y_tot, training_dim, best_models[1],True)"
   ]
  },
  {
   "cell_type": "code",
   "execution_count": null,
   "metadata": {},
   "outputs": [],
   "source": [
    "plt.plot(X_tot, y_tot, label='actual')\n",
    "plt.plot(X_tot, data1, label='predicted')\n",
    "plt.legend(loc='best')"
   ]
  },
  {
   "cell_type": "code",
   "execution_count": null,
   "metadata": {},
   "outputs": [],
   "source": []
  }
 ],
 "metadata": {
  "kernelspec": {
   "display_name": "Python 3",
   "language": "python",
   "name": "python3"
  },
  "language_info": {
   "codemirror_mode": {
    "name": "ipython",
    "version": 3
   },
   "file_extension": ".py",
   "mimetype": "text/x-python",
   "name": "python",
   "nbconvert_exporter": "python",
   "pygments_lexer": "ipython3",
   "version": "3.7.3"
  }
 },
 "nbformat": 4,
 "nbformat_minor": 4
}
