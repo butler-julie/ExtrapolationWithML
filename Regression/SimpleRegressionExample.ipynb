{
 "cells": [
  {
   "cell_type": "markdown",
   "metadata": {},
   "source": [
    "# Simple Regression Example\n",
    "\n",
    "Julie Butler Hartley\n",
    "\n",
    "Version 1.0.0\n",
    "\n",
    "Date Created: October 28, 2020\n",
    "\n",
    "Last Modified: October 28, 2020\n",
    "\n",
    "The following notebook demonstrates the abilities of linear regression, ridge regression, and kernel ridge regression to extrapolate data using sequential (time-series formatting).\n"
   ]
  },
  {
   "cell_type": "markdown",
   "metadata": {},
   "source": [
    "## Imports"
   ]
  },
  {
   "cell_type": "code",
   "execution_count": 1,
   "metadata": {},
   "outputs": [
    {
     "name": "stderr",
     "output_type": "stream",
     "text": [
      "/Library/Python/3.7/site-packages/sklearn/utils/deprecation.py:143: FutureWarning: The sklearn.linear_model.ridge module is  deprecated in version 0.22 and will be removed in version 0.24. The corresponding classes / functions should instead be imported from sklearn.linear_model. Anything that cannot be imported from sklearn.linear_model is now part of the private API.\n",
      "  warnings.warn(message, FutureWarning)\n"
     ]
    }
   ],
   "source": [
    "\n",
    "# SYSTEM LEVEL IMPORTS\n",
    "# Import files from other directories\n",
    "import sys\n",
    "\n",
    "# THIRD-PARTY IMPORTS\n",
    "# For array handling\n",
    "import numpy as np\n",
    "# Linear Ridge Method\n",
    "from sklearn.linear_model import LinearRegression\n",
    "# Ridge Methods\n",
    "from sklearn.linear_model.ridge import Ridge\n",
    "# Kernel Ridge Methods\n",
    "from sklearn.kernel_ridge import KernelRidge\n",
    "# Prevents extraneous printing of messages during a grid search\n",
    "import warnings\n",
    "# For graphing \n",
    "import matplotlib.pyplot as plt\n",
    "\n",
    "# LOCAL IMPORTS\n",
    "# Changing the import directory\n",
    "sys.path.append('../DataSets/')\n",
    "# Data sets (mostly physics related)\n",
    "from DataSets import *\n",
    "from ElectronGas import *\n",
    "from NuclearBindingEnergy import *"
   ]
  },
  {
   "cell_type": "markdown",
   "metadata": {},
   "source": [
    "## Formatting the Data\n",
    "\n",
    "The way the regression algorithms are trained in this program differs from how machine learning algorithms are usually trained, but is similar to a training method typically only done on recurrent neural networks.  Typically a machine learning algorithm is trained by learning the relationship between the x data and the y data.  In this program, the recurrent neural network will be trained to recognize the relationship in a sequence of y values.  This is type of data formatting is typically used time series forcasting, but it can also be used in any extrapolation (time series forecasting is just a specific type of extrapolation along the time axis).  This method of data formatting does not use the x data and assumes that the y data are evenly spaced.\n",
    "\n",
    "For a standard machine learning algorithm, the training data has the form of (x,y) so the machine learning algorithm learns to assiciate a y value with a given x value.  This is useful when the test data has x values within the same range as the training data.  However, for this application, the x values of the test data are outside of the x values of the training data and the traditional method of training a machine learning algorithm does not work as well.  For this reason, the recurrent neural network is trained on sequences of y values of the form ((y1, y2), y3), so that the network is concerned with learning the pattern of the y data and not the relation between the x and y data.  As long as the pattern of y data outside of the training region stays relatively stable compared to what was inside the training region, this method of training can produce accurate extrapolations to y values far removed from the training data set.\n",
    "\n",
    "The idea behind formatting the data in this way comes from [this resource](https://machinelearningmastery.com/time-series-prediction-lstm-recurrent-neural-networks-python-keras/) and [this one](https://fairyonice.github.io/Understand-Keras%27s-RNN-behind-the-scenes-with-a-sin-wave-example.html).\n",
    "\n",
    "The following method takes in a y data set and formats it so the \"x data\" are of the form (y1, y2) and the \"y data\" are of the form y3, with extra brackets added in to make the resulting arrays compatable with both Keras and Tensorflow.\n",
    "\n",
    "Note: Using a sequence length of two is not required for time series forecasting so any lenght of sequence could be used (for example instead of ((y1, y2) y3) you could change the length of sequence to be 4 and the resulting data points would have the form ((y1, y2, y3, y4), y5)).  While the following method can be used to create a data set of any sequence length, the remainder of the code expects the length of sequence to be 2.  This is because the data sets are very small and the higher the lenght of the sequence the less resulting data points."
   ]
  },
  {
   "cell_type": "code",
   "execution_count": 2,
   "metadata": {},
   "outputs": [],
   "source": [
    "def format_data(data, length_of_sequence = 2):\n",
    "    \"\"\"\n",
    "        Inputs:\n",
    "            data(a numpy array): the data that will be the inputs to the recurrent neural\n",
    "                network\n",
    "            length_of_sequence (an int): the number of elements in one iteration of the\n",
    "                sequence patter.  For a function approximator use length_of_sequence = 2.\n",
    "        Returns:\n",
    "            rnn_input (a 2D numpy array): the input data for the regression.\n",
    "            rnn_output (a numpy array): the training data for the regression\n",
    "        Formats data in a time series-inspired way to be used in ridge and kernel ridge\n",
    "        regression.\n",
    "        NOTE: formally format_data_dnn from RNN codes.\n",
    "    \"\"\"\n",
    "    # Lists to hold the formatted data\n",
    "    inputs, outputs = [], []\n",
    "    # Loop through the data\n",
    "    for i in range(len(data)-length_of_sequence):\n",
    "        # Get the next length_of_sequence elements\n",
    "        a = data[i:i+length_of_sequence]\n",
    "        # Get the element that immediately follows that\n",
    "        b = data[i+length_of_sequence]\n",
    "        # Add new points to the returned arrays\n",
    "        inputs.append(a)\n",
    "        outputs.append(b)\n",
    "    # Format the lists as numpy arrays\n",
    "    inputs = np.array(inputs)\n",
    "    outputs = np.array(outputs)\n",
    "    # Return the two formatted arrays\n",
    "    return inputs, outputs"
   ]
  },
  {
   "cell_type": "markdown",
   "metadata": {},
   "source": [
    "## Mean-Squared Error Function\n",
    "A quick mean-squared error function that will be used later in the regression functions."
   ]
  },
  {
   "cell_type": "code",
   "execution_count": 3,
   "metadata": {},
   "outputs": [],
   "source": [
    "def mse (A, B):\n",
    "    \"\"\"\n",
    "        Inputs:\n",
    "            A, B (numpy arrays of the same length): two different data sets\n",
    "        Returns:\n",
    "            Unnamed (a float): the mean-squared error score between data sets A and B\n",
    "        Finds the mean-squared error of the two data sets given as inputs.\n",
    "    \"\"\"\n",
    "    return ((A-B)**2).mean()"
   ]
  },
  {
   "cell_type": "markdown",
   "metadata": {},
   "source": [
    "## Regression Algorithms\n",
    "\n",
    "The following three functions each create a linear regression algorithm, a ridge regression algorithm, or a kernel ridge regression algorithm (in that order) using the machine learning package Scikit-Learn.  Each function trains the algorithms using training data in the sequential data format, and the uses the trained algorithm to predict further points in the data set.  These functions assumes the complete, true data set is known and performs an analysis to see how closesly the predicted data set matches the true data set."
   ]
  },
  {
   "cell_type": "markdown",
   "metadata": {},
   "source": [
    "### Linear Regression\n",
    "\n",
    "Linear regression (LR) is a machine learning model which performs\n",
    "regression analysis on a data set to find a line which best models the\n",
    "data.  Ridge regression (RR) and kernel ridge regression (KRR) are\n",
    "machine learning models that stem from the simple linear regression\n",
    "model.  The loss function for the linear regression algorithm can be\n",
    "written as:\n",
    "\n",
    "$$J(\\textbf{w}) = \\sum_{i=1}^n (y_i - \\hat{y}_i)^2 .$$\n",
    "\n",
    "In the above equation, the vector \\textbf{y} is the \"true\" data or the\n",
    "y-values from the training data set, and the vector $\\hat{\\textbf{y}}$\n",
    "is the data generated by the linear regression algorithm.\n",
    "$\\hat{\\textbf{y}}$ can also be written as:\n",
    "\n",
    "$$\\hat{\\textbf{y}} = \\textbf{x}w ,$$\n",
    "\n",
    "where $\\textbf{x}$ are the x-values of the training data and w is a\n",
    "matrix of weights that are optimized to minimize the loss function\n",
    "given in Equation (1)."
   ]
  },
  {
   "cell_type": "code",
   "execution_count": 4,
   "metadata": {},
   "outputs": [],
   "source": [
    "def linear_regression (X_train, y_train, y_tot, training_dim, params,\n",
    "    verbose=True, seq=2):\n",
    "    \"\"\"\n",
    "        Inputs:\n",
    "            X_train (a list or numpy array): the x component of the training data\n",
    "            y_train (a list or numpy array): the y component of the training data\n",
    "            y_tot (a list of numpy array): the total set of data points (training plus validation)\n",
    "            training_dim (an int): the size of the traing data (i.e. the number of points\n",
    "                from y_tot that are used in the training)\n",
    "            params (a list): contains the parameters of the linear regression\n",
    "                algorithm.  In order: fit intercept and normalize.\n",
    "            verbose (a boolean): True case: prints the MSE score of the extrapolated data\n",
    "                when compared to the true data.\n",
    "        Returns:\n",
    "            y_return (a list): the known points and the extrapolated data points\n",
    "            Unnamed (a float): the MSE error between the true data and the predicted\n",
    "                data\n",
    "        Performs linear regression on the given data set using the given parameters\n",
    "        and then extrapolates data points to get a complete data set.  Prints the MSE\n",
    "        score of the extrapolated data set compared to the true data set if desired and\n",
    "        then returns the extrapolated data set.\n",
    "    \"\"\"\n",
    "    # To ensure that all parameters are present\n",
    "    assert len(params)==2\n",
    "\n",
    "    # Set up the model\n",
    "    lr = LinearRegression (fit_intercept = params[0], normalize = params[1])\n",
    "\n",
    "    # Fit the model to the training data\n",
    "    lr.fit(X_train, y_train)\n",
    "\n",
    "    # Use the trained model to predict the points in the validation set\n",
    "    y_return = y_tot[:training_dim].tolist()\n",
    "    next_input = [[y_return[-2], y_return[-1]]]\n",
    "    last = y_return[-1]\n",
    "    while len(y_return) < len(y_tot):\n",
    "        try:\n",
    "            next = lr.predict(next_input)\n",
    "        except:\n",
    "            print ('Overflow encountered on predicton')\n",
    "            return None, 1e10\n",
    "        y_return.append(next[0])\n",
    "        next_input =[[last, next[0]]]\n",
    "        last = next[0]\n",
    "\n",
    "    # Print the MSE error if needed\n",
    "    if verbose:\n",
    "        print ('LINEAR REGRESSION MSE VALUE: ', mse(y_tot, y_return))\n",
    "\n",
    "    # Return the predicted points and the MSE error\n",
    "    return y_return, mse(y_tot, y_return)\n"
   ]
  },
  {
   "cell_type": "markdown",
   "metadata": {},
   "source": [
    "### Ridge Regression\n",
    "\n",
    "Using the loss function for the linear regression model, the loss function for the ridge regression model can be easily written by adding an extra, regularization term.\n",
    "\n",
    "$$J(\\textbf{w}) = \\sum_{i=1}^n (y_i - \\hat{y}_i)^2 + \\alpha\\sum_{i=1}^n w_i^2 ,$$\n",
    "\n",
    "where $\\textbf{y}$ and $\\hat{\\textbf{y}}$ are defined in the same way as\n",
    "for linear regression.  This equation differs from Equation (1) by the\n",
    "inclusion of the regularization term at the end. This term introduces\n",
    "a small amount of bias into the algorithm, leading to a large drop in\n",
    "the variance (bias-variance trade-off), allowing the ridge regression\n",
    "algorithm to generalize to new data points better than regular linear\n",
    "regression.  The term $\\alpha$ is a hyperparameter which controls how\n",
    "much bias is introduced into the algorithm (a larger value of $\\alpha$\n",
    "means more bias is added in). This second term is a regularization\n",
    "term and therefore $\\alpha$ can also be referred to as the strength of\n",
    "the regularization."
   ]
  },
  {
   "cell_type": "code",
   "execution_count": 5,
   "metadata": {},
   "outputs": [],
   "source": [
    "def ridge_regression(X_train, y_train, y_tot, training_dim, params, verbose=True, seq=2):\n",
    "    \"\"\"\n",
    "        Inputs:\n",
    "            X_train (a list or numpy array): the x component of the training data\n",
    "            y_train (a list or numpy array): the y component of the training data\n",
    "            y_tot (a list of numpy array): the total set of data points (training plus validation)\n",
    "            training_dim (an int): the size of the traing data (i.e. the number of points\n",
    "                from y_tot that are used in the training)\n",
    "            params (a list): contains the parameters of the ridge regression \n",
    "                algorithm.  In order: normalize, alpha, and solver.\n",
    "            verbose (a boolean): True case: prints the MSE score of the extrapolated data\n",
    "                when compared to the true data.\n",
    "        Returns:\n",
    "            y_return (a list): the known points and the extrapolated data points\n",
    "            Unnamed (a float): the MSE error between the true data and the predicted\n",
    "                data\n",
    "        Performs ridge regression on the given data set using the given parameters\n",
    "        and then extrapolates data points to get a complete data set.  Prints the MSE \n",
    "        score of the extrapolated data set compared to the true data set if desired and\n",
    "        then returns the extrapolated data set.\n",
    "\n",
    "    \"\"\"\n",
    "    # To ensure that all parameters are present \n",
    "    assert len(params)==3\n",
    "\n",
    "    # Set up the model\n",
    "    r = Ridge (normalize = params[0], alpha = params[1], solver = params[2])    \n",
    "\n",
    "    # Fit the model to the training data\n",
    "    r.fit(X_train, y_train)\n",
    "\n",
    "    # Use the trained model to predict the points in the validation set\n",
    "    y_return = y_tot[:training_dim].tolist()\n",
    "    next_input = [[y_return[-2], y_return[-1]]]\n",
    "    last = y_return[-1]\n",
    "    while len(y_return) < len(y_tot):\n",
    "        try:\n",
    "            next = r.predict(next_input)\n",
    "        except:\n",
    "            print ('Overflow encountered on predicton')\n",
    "            return None, 1e10\n",
    "        y_return.append(next[0])\n",
    "        next_input =[[last, next[0]]]\n",
    "        last = next[0]\n",
    "\n",
    "    # Print the MSE error if needed\n",
    "    if verbose:  \n",
    "        print ('RIDGE MSE VALUE: ', mse(y_tot, y_return))\n",
    "\n",
    "    # Return the predicted points and the MSE error\n",
    "    return y_return, mse(y_tot, y_return)\n"
   ]
  },
  {
   "cell_type": "markdown",
   "metadata": {},
   "source": [
    "### Kernel Ridge Regression\n",
    "\n",
    "The loss function for kernel ridge regression is the same as the loss\n",
    "function for ridge regression (with the inclusion of the\n",
    "regularization term), but the output of the model, $\\hat{\\textbf{y}}$,\n",
    "changes for kernel ridge regression. For kernel ridge regression,\n",
    "$\\hat{\\textbf{y}}$ is defined as:\n",
    "\n",
    "$$\\hat{\\textbf{y}} = -\\frac{1}{\\alpha}\\sum_{i=1}^n \\gamma_ik(\\textbf{x}, \\textbf{x}_i)$$\n",
    "\n",
    "\n",
    "There are several popular kernels which are commonly used in kernel ridge regression.  They are listed in Table 1 along with their mathematical expressions.  Note that the linear kernel is just a special case of the polynomial kernel.\n",
    "        \n",
    "| Kernel| Mathematical Expression |\n",
    "|------|------|\n",
    "| Polynomial | k(x,y) = ($\\gamma$x$^T$y + c$_0$)$^d$ | \n",
    "| Linear | k(x,y) = x$^T$y | \n",
    "| Sigmoid | k(x,y) = tanh($\\gamma$x$^T$y + c$_0$) | \n",
    "| Radial Basis Function | k(x,y) = tanh($\\gamma$x$^T$y + c$_0$) | \n",
    "|Laplacian | k(x,y) = tanh($\\gamma$x$^T$y + c$_0$) | \n",
    "    "
   ]
  },
  {
   "cell_type": "code",
   "execution_count": 6,
   "metadata": {},
   "outputs": [],
   "source": [
    "def kernel_ridge_regression (X_train, y_train, y_tot, training_dim, params, verbose=True, seq=2):\n",
    "    \"\"\"\n",
    "        Inputs:\n",
    "            X_train (a list or numpy array): the x component of the training data\n",
    "            y_train (a list or numpy array): the y component of the training data\n",
    "            y_tot (a list of numpy array): the total set of data points (training plus validation)\n",
    "            training_dim (an int): the size of the traing data (i.e. the number of points\n",
    "                from y_tot that are used in the training)\n",
    "            params (a list): contains the parameters of the kernel ridge regression \n",
    "                algorithm.  In order: kernel, degree, alpha, coef0, gamma.\n",
    "            verbose (a boolean): True case: prints the MSE score of the extrapolated data\n",
    "                when compared to the true data.\n",
    "        Returns:\n",
    "            y_return (a list): the known points and the extrapolated data points\n",
    "            Unnamed (a float): the MSE error between the true data and the predicted\n",
    "                data\n",
    "        Performs kernel ridge regression on the given data set using the given parameters\n",
    "        and then extrapolates data points to get a complete data set.  Prints the MSE \n",
    "        score of the extrapolated data set compared to the true data set if desired and\n",
    "        then returns the extrapolated data set.\n",
    "\n",
    "    \"\"\"\n",
    "    # To ensure that all parameters are present \n",
    "    assert len(params)==5\n",
    "\n",
    "    # Set up the model\n",
    "    kr = KernelRidge (kernel=params[0], degree=params[1], alpha=params[2], coef0=params[3], gamma=params[4])    \n",
    "\n",
    "    # Fit the model to the training data\n",
    "    kr.fit(X_train, y_train)\n",
    "\n",
    "    # Use the trained model to predict the points in the validation set\n",
    "    y_return = y_tot[:training_dim].tolist()\n",
    "    next_input = [[y_return[-2], y_return[-1]]]\n",
    "    last = y_return[-1]\n",
    "    while len(y_return) < len(y_tot):\n",
    "        try:\n",
    "            next = kr.predict(next_input)\n",
    "        except:\n",
    "            print ('Overflow encountered on predicton')\n",
    "            return None, 1e10\n",
    "        y_return.append(next[0])\n",
    "        next_input =[[last, next[0]]]\n",
    "        last = next[0]\n",
    "\n",
    "    # Print the MSE error if needed\n",
    "    if verbose:  \n",
    "        print ('KERNEL RIDGE MSE VALUE: ', mse(y_tot, y_return))\n",
    "\n",
    "    # Return the predicted points and the MSE error\n",
    "    return y_return, mse(y_tot, y_return)\n"
   ]
  },
  {
   "cell_type": "markdown",
   "metadata": {},
   "source": [
    "## Test the Regression Algorithms\n",
    "\n",
    "The following code test the ability of all three regression algorithms to extrapolate points in a data set outside of the training region.  In this case the data of interest is taken from an Couple Cluster/Electron gas data set (located in the DataSets folder), but this code could be easily modified to work with any data set.\n",
    "\n",
    "The code uses parameters which are optimized to the data set and were found using hyperparameter tuning (see the file RegressionTestCode.py).  The code trains all three types of linear regression algorithms using some subset of the complete data set and then extrapolates to a complete data set.  All three extrapolated data sets are then plotted against the known data set."
   ]
  },
  {
   "cell_type": "code",
   "execution_count": 12,
   "metadata": {},
   "outputs": [
    {
     "name": "stdout",
     "output_type": "stream",
     "text": [
      "LINEAR REGRESSION MSE VALUE:  9.993527678548828e-06\n",
      "RIDGE MSE VALUE:  1.0815091622545033e-05\n",
      "KERNEL RIDGE MSE VALUE:  1.721755163600999e-07\n"
     ]
    },
    {
     "name": "stderr",
     "output_type": "stream",
     "text": [
      "/Library/Python/3.7/site-packages/sklearn/linear_model/_ridge.py:190: UserWarning: Singular matrix in solving dual problem. Using least-squares solution instead.\n",
      "  warnings.warn(\"Singular matrix in solving dual problem. Using \"\n"
     ]
    },
    {
     "data": {
      "text/plain": [
       "<matplotlib.legend.Legend at 0x12741ed68>"
      ]
     },
     "execution_count": 12,
     "metadata": {},
     "output_type": "execute_result"
    },
    {
     "data": {
      "image/png": "[encoded data removed]",
      "text/plain": [
       "<Figure size 432x288 with 1 Axes>"
      ]
     },
     "metadata": {
      "needs_background": "light"
     },
     "output_type": "display_data"
    }
   ],
   "source": [
    "# Import the data set\n",
    "name, dim, X_tot, y_tot, N = rs_1_N_26 ()\n",
    "\n",
    "# Create a training data set by applying sequential formatting to the first dim points\n",
    "# of the y data\n",
    "X_train, y_train = format_data(y_tot[:dim])\n",
    "\n",
    "# Optimized parameters found through hyperparameter tuning\n",
    "# These parameters are (in order): Normalize, Set Intercept\n",
    "params_lr = [True, True]\n",
    "# These parameters are (in order): Normalize, alpha, solver\n",
    "params_rr = [False, 1.175277E-15,'sag']\n",
    "# These parameters are (in order): kernel, degree (N/A), alpha, coef0 (N/A), gamma\n",
    "# Note that degree and coef0 are not taken into account when using the sigmoid kernel\n",
    "params_krr = ['sigmoid', 1.00, 7.847600E-13, 5.00, 1.389495E+01]\n",
    "\n",
    "# Train all three regression algorithms and use each to extrapolate to a complete data set\n",
    "y_lr, mse_lr = linear_regression (X_train, y_train, y_tot, dim, params_lr, verbose=True, seq=2)\n",
    "y_rr, mse_rr = ridge_regression (X_train, y_train, y_tot, dim, params_rr, verbose=True, seq=2)\n",
    "y_krr, mse_krr = kernel_ridge_regression (X_train, y_train, y_tot, dim, params_krr, verbose=True, seq=2)\n",
    "\n",
    "# Plot the three extrapolated data sets against the true data\n",
    "plt.plot(X_tot, y_lr, label='Linear Regression')\n",
    "plt.plot(X_tot, y_rr, label='Ridge Regression')\n",
    "plt.plot(X_tot, y_krr, label='Kernel Ridge Regression')\n",
    "plt.plot(X_tot, y_tot, label='True Data')\n",
    "\n",
    "# Add axes labels and a legend\n",
    "plt.xlabel('Number of Orbitals')\n",
    "plt.ylabel('Correlation Energy')\n",
    "plt.legend(loc='best')"
   ]
  },
  {
   "cell_type": "code",
   "execution_count": null,
   "metadata": {},
   "outputs": [],
   "source": []
  }
 ],
 "metadata": {
  "kernelspec": {
   "display_name": "Python 3",
   "language": "python",
   "name": "python3"
  },
  "language_info": {
   "codemirror_mode": {
    "name": "ipython",
    "version": 3
   },
   "file_extension": ".py",
   "mimetype": "text/x-python",
   "name": "python",
   "nbconvert_exporter": "python",
   "pygments_lexer": "ipython3",
   "version": "3.7.3"
  }
 },
 "nbformat": 4,
 "nbformat_minor": 4
}
